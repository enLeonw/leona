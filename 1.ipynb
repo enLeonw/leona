{
 "cells": [
  {
   "cell_type": "code",
   "execution_count": 1,
   "metadata": {},
   "outputs": [
    {
     "data": {
      "text/plain": [
       "1"
      ]
     },
     "execution_count": 1,
     "metadata": {},
     "output_type": "execute_result"
    }
   ],
   "source": [
    "a = 1\n",
    "a"
   ]
  },
  {
   "cell_type": "code",
   "execution_count": 2,
   "metadata": {},
   "outputs": [
    {
     "name": "stdout",
     "output_type": "stream",
     "text": [
      "hello\n"
     ]
    }
   ],
   "source": [
    "print(\"hello\")\n",
    "\n"
   ]
  },
  {
   "cell_type": "code",
   "execution_count": 4,
   "metadata": {},
   "outputs": [
    {
     "data": {
      "text/plain": [
       "'helloalice'"
      ]
     },
     "execution_count": 4,
     "metadata": {},
     "output_type": "execute_result"
    }
   ],
   "source": [
    "name=['alice','jessica','tom']\n",
    "message='hello '\n",
    "message+name[0]"
   ]
  },
  {
   "cell_type": "code",
   "execution_count": 5,
   "metadata": {},
   "outputs": [],
   "source": [
    "name[0]='alices'"
   ]
  },
  {
   "cell_type": "code",
   "execution_count": 6,
   "metadata": {},
   "outputs": [
    {
     "data": {
      "text/plain": [
       "['alices', 'jessica', 'tom']"
      ]
     },
     "execution_count": 6,
     "metadata": {},
     "output_type": "execute_result"
    }
   ],
   "source": [
    "name"
   ]
  },
  {
   "cell_type": "code",
   "execution_count": 7,
   "metadata": {},
   "outputs": [
    {
     "name": "stdout",
     "output_type": "stream",
     "text": [
      "A cat is cute\n",
      "A dog is cute\n",
      "A bird is cute\n",
      "any of these animals would make a good pet!\n"
     ]
    }
   ],
   "source": [
    "animal=['cat','dog','bird']\n",
    "for anima in animal:\n",
    "    print(\"A \"+ anima + \" is cute\")\n",
    "print(\"any of these animals would make a good pet!\")"
   ]
  },
  {
   "cell_type": "code",
   "execution_count": 10,
   "metadata": {},
   "outputs": [
    {
     "name": "stdout",
     "output_type": "stream",
     "text": [
      "2\n",
      "4\n",
      "6\n",
      "8\n",
      "10\n",
      "12\n",
      "14\n",
      "16\n",
      "18\n",
      "20\n"
     ]
    }
   ],
   "source": [
    "for i in range(2,21,2):\n",
    "    print (i)"
   ]
  },
  {
   "cell_type": "code",
   "execution_count": 12,
   "metadata": {},
   "outputs": [
    {
     "data": {
      "text/plain": [
       "[8, 9, 10, 11, 12, 13, 14, 15]"
      ]
     },
     "execution_count": 12,
     "metadata": {},
     "output_type": "execute_result"
    }
   ],
   "source": [
    "nums=list(range(1,11))\n",
    "nums2=list(range(11,21))\n",
    "nums3=nums+nums2\n",
    "nums3[7:15:1]\n"
   ]
  },
  {
   "cell_type": "code",
   "execution_count": 13,
   "metadata": {},
   "outputs": [
    {
     "name": "stdout",
     "output_type": "stream",
     "text": [
      "{'firstname': 'alice', 'lastname': 'potter', 'age': '18', 'city': 'shanghai'}\n"
     ]
    }
   ],
   "source": [
    "d={'firstname':'alice','lastname':'potter','age':'18','city':'shanghai'}\n",
    "print(d)"
   ]
  },
  {
   "cell_type": "code",
   "execution_count": 14,
   "metadata": {},
   "outputs": [
    {
     "name": "stdout",
     "output_type": "stream",
     "text": [
      "alice\n",
      "potter\n",
      "18\n",
      "shanghai\n"
     ]
    }
   ],
   "source": [
    "for i in d:\n",
    "    print(d[i])"
   ]
  },
  {
   "cell_type": "code",
   "execution_count": 15,
   "metadata": {},
   "outputs": [
    {
     "data": {
      "text/plain": [
       "dict_keys(['firstname', 'lastname', 'age', 'city'])"
      ]
     },
     "execution_count": 15,
     "metadata": {},
     "output_type": "execute_result"
    }
   ],
   "source": [
    "d.keys()"
   ]
  },
  {
   "cell_type": "code",
   "execution_count": 17,
   "metadata": {},
   "outputs": [
    {
     "name": "stdout",
     "output_type": "stream",
     "text": [
      "shanghai {'country': 'china', 'population': '1', 'fact': '1'}\n"
     ]
    }
   ],
   "source": [
    "cities={'shanghai':{'country':'china','population':'1','fact':'1'}}\n",
    "for i in cities:\n",
    "    print (i,cities[i])\n"
   ]
  },
  {
   "cell_type": "code",
   "execution_count": 18,
   "metadata": {},
   "outputs": [
    {
     "data": {
      "text/plain": [
       "({20,\n",
       "  21,\n",
       "  22,\n",
       "  23,\n",
       "  24,\n",
       "  25,\n",
       "  26,\n",
       "  27,\n",
       "  28,\n",
       "  29,\n",
       "  30,\n",
       "  31,\n",
       "  32,\n",
       "  33,\n",
       "  34,\n",
       "  35,\n",
       "  36,\n",
       "  37,\n",
       "  38,\n",
       "  39,\n",
       "  40,\n",
       "  41,\n",
       "  42,\n",
       "  43,\n",
       "  44,\n",
       "  45,\n",
       "  46,\n",
       "  47,\n",
       "  48,\n",
       "  49},\n",
       " {0,\n",
       "  1,\n",
       "  2,\n",
       "  3,\n",
       "  4,\n",
       "  5,\n",
       "  6,\n",
       "  7,\n",
       "  8,\n",
       "  9,\n",
       "  10,\n",
       "  11,\n",
       "  12,\n",
       "  13,\n",
       "  14,\n",
       "  15,\n",
       "  16,\n",
       "  17,\n",
       "  18,\n",
       "  19,\n",
       "  20,\n",
       "  21,\n",
       "  22,\n",
       "  23,\n",
       "  24,\n",
       "  25,\n",
       "  26,\n",
       "  27,\n",
       "  28,\n",
       "  29,\n",
       "  30,\n",
       "  31,\n",
       "  32,\n",
       "  33,\n",
       "  34,\n",
       "  35,\n",
       "  36,\n",
       "  37,\n",
       "  38,\n",
       "  39,\n",
       "  40,\n",
       "  41,\n",
       "  42,\n",
       "  43,\n",
       "  44,\n",
       "  45,\n",
       "  46,\n",
       "  47,\n",
       "  48,\n",
       "  49,\n",
       "  50,\n",
       "  51,\n",
       "  52,\n",
       "  53,\n",
       "  54,\n",
       "  55,\n",
       "  56,\n",
       "  57,\n",
       "  58,\n",
       "  59})"
      ]
     },
     "execution_count": 18,
     "metadata": {},
     "output_type": "execute_result"
    }
   ],
   "source": [
    "a = set()\n",
    "for ast in range(50):\n",
    "    a.add(ast)\n",
    "\n",
    "b = set()\n",
    "for bst in range(20,60):\n",
    "    b.add(bst)\n",
    "\n",
    "a&b,a|b"
   ]
  },
  {
   "cell_type": "code",
   "execution_count": 20,
   "metadata": {},
   "outputs": [
    {
     "ename": "TypeError",
     "evalue": "'module' object is not callable",
     "output_type": "error",
     "traceback": [
      "\u001b[0;31m---------------------------------------------------------------------------\u001b[0m",
      "\u001b[0;31mTypeError\u001b[0m                                 Traceback (most recent call last)",
      "\u001b[1;32m/Users/leoneeeee/Desktop/python/1.ipynb Cell 14\u001b[0m line \u001b[0;36m2\n\u001b[1;32m      <a href='vscode-notebook-cell:/Users/leoneeeee/Desktop/python/1.ipynb#X16sZmlsZQ%3D%3D?line=0'>1</a>\u001b[0m \u001b[39mimport\u001b[39;00m \u001b[39mos\u001b[39;00m\n\u001b[0;32m----> <a href='vscode-notebook-cell:/Users/leoneeeee/Desktop/python/1.ipynb#X16sZmlsZQ%3D%3D?line=1'>2</a>\u001b[0m os\u001b[39m.\u001b[39;49mpath(\u001b[39m\"\u001b[39;49m\u001b[39m/Users/leoneeeee/Desktop\u001b[39;49m\u001b[39m\"\u001b[39;49m)\n",
      "\u001b[0;31mTypeError\u001b[0m: 'module' object is not callable"
     ]
    }
   ],
   "source": [
    "import os\n",
    "os.path(\"/Users/leoneeeee/Desktop\")"
   ]
  },
  {
   "cell_type": "code",
   "execution_count": 21,
   "metadata": {},
   "outputs": [
    {
     "data": {
      "text/plain": [
       "18"
      ]
     },
     "execution_count": 21,
     "metadata": {},
     "output_type": "execute_result"
    }
   ],
   "source": [
    "13+5\n",
    "\n"
   ]
  },
  {
   "cell_type": "markdown",
   "metadata": {},
   "source": []
  },
  {
   "cell_type": "code",
   "execution_count": 29,
   "metadata": {},
   "outputs": [
    {
     "data": {
      "image/png": "[encoded data removed]",
      "text/plain": [
       "<Figure size 640x480 with 1 Axes>"
      ]
     },
     "metadata": {},
     "output_type": "display_data"
    }
   ],
   "source": [
    "import numpy as np\n",
    "import matplotlib .pyplot as plt\n",
    "#dataset\n",
    "x=[1.0,2.0,3.0]\n",
    "y=[2.0,4.0,6.0]\n",
    "class Pre():\n",
    "    def __init__(self,x):\n",
    "        self.x = x\n",
    "\n",
    "    def predict(self):\n",
    "        y_pre = w *self.x\n",
    "        return y_pre\n",
    "\n",
    "#损失函数\n",
    "class Loss():\n",
    "    def __init__(self,y,a):\n",
    "        self.y=y\n",
    "        self.a=a\n",
    "\n",
    "    def losscal(self):\n",
    "        loss = (self.a - self.y)**2\n",
    "        return loss\n",
    "    \n",
    "    \n",
    "lst_w = []\n",
    "lst_loss = []\n",
    "for w in np.arange(0.0,4.0,0.1):\n",
    "    sum = 0\n",
    "    lst_w.append(w)\n",
    "    for a, b in zip(x, y):\n",
    "        y_pre = Pre(a)\n",
    "        p = y_pre.predict()\n",
    "        lo=Loss(b,p)\n",
    "        loss=lo.losscal()\n",
    "        sum += loss\n",
    "    lst_loss.append(sum/3)\n",
    "plt.plot(lst_w,lst_loss)\n",
    "plt.ylabel(\"loss\")\n",
    "plt.xlabel(\"w\")\n",
    "plt.show()\n",
    "\n",
    "\n",
    "\n",
    "\n",
    "\n",
    "\n"
   ]
  },
  {
   "cell_type": "code",
   "execution_count": 30,
   "metadata": {},
   "outputs": [
    {
     "ename": "SyntaxError",
     "evalue": "invalid syntax (3788582139.py, line 2)",
     "output_type": "error",
     "traceback": [
      "\u001b[0;36m  Cell \u001b[0;32mIn[30], line 2\u001b[0;36m\u001b[0m\n\u001b[0;31m    import torch.nn.functional as False\u001b[0m\n\u001b[0m                                  ^\u001b[0m\n\u001b[0;31mSyntaxError\u001b[0m\u001b[0;31m:\u001b[0m invalid syntax\n"
     ]
    }
   ],
   "source": [
    "import torch\n",
    "import torch.nn.functional as False\n",
    "import match\n",
    "from torch import nn, Tensor\n",
    "import numpy as np\n",
    "\n",
    "#归一化\n",
    "def layor_norm(inputs, epsilon=1e-5):\n",
    "    mean=np.mean(inputs, axis = -1, keepdims=True)\n",
    "    variance=np.var(inputs, axis=-1, keepdims=True)\n",
    "    normalize = (inputs - mean) / (np.sqrt(variance + epsilon))\n",
    "    gamma=np.ones_like(inputs)\n",
    "    beta=np.zeros_like(inputs)\n",
    "    outputs = gamma * normalize + beta\n",
    "    return outputs\n",
    "\n",
    "#position encoding\n",
    "def posencoding(pos, d_model):\n",
    "    div_dim=np.exp(np.arange(0, d_model, 2) * -(np.log(10000.0) / d_model))\n",
    "    pe = np.zeros(d_model)\n",
    "    pe[0::2]=np.sin(pos * div_dim)\n",
    "    pe[1::2]=np.cos(pos * div_dim)\n",
    "    return pe\n",
    "\n",
    "#点积\n",
    "def dot_product(q:Tensor,k:Tensor,v:Tensor,mask:Tensor=None)->Tensor:\n",
    "    d_k=q.size()[-1]\n",
    "    attn_logits=torch.matmul(q,k.transpose(-2,-1))/np.sqrt(d_k)\n",
    "    if mask is not None:\n",
    "        attn_logits=attn_logits.masked_fill(mask==0,float('-inf'))  \n",
    "    attention=F.softmax(attn_logits,dim=-1)\n",
    "    values=torch.matmul(attention,v)\n",
    "    return values, attention\n",
    "\n",
    "#单头注意力attention\n",
    "class Attention(nn.Module):\n",
    "    def __init__(self,dim_input:int, dim_q:int, dim_k:int):\n",
    "        super().__init__()\n",
    "        self.linear_query=nn.Linear(dim_input,dim_q)\n",
    "        self.linear_key=nn.Linear(dim_input,dim_k)\n",
    "        self.linear_value=nn.Linear(dim_input,dim_k)\n",
    "        \n",
    "    def forward(self,query:Tensor,key:Tensor,value:Tensor,mask:Tensor=None)->Tensor:\n",
    "        return scale_dot_product(self.linear_query(query),self.linear_key(key),self.linear_value(value),mask)\n",
    "    \n",
    "#多头注意力attention\n",
    "class MultiHeadAttention(nn.Module):\n",
    "    def __init__(self,num_heads:int,dim_input:int,dim_q:int,dim_k:int):\n",
    "        super().__init__()\n",
    "        self.heads=nn.ModuleList([Attention(dim_input,dim_q,dim_k) for _ in range(num_heads)])\n",
    "        self.linear_out=nn.Linear(num_heads*dim_k,dim_input)\n",
    "\n"
   ]
  },
  {
   "cell_type": "code",
   "execution_count": null,
   "metadata": {},
   "outputs": [],
   "source": []
  }
 ],
 "metadata": {
  "kernelspec": {
   "display_name": "Python 3",
   "language": "python",
   "name": "python3"
  },
  "language_info": {
   "codemirror_mode": {
    "name": "ipython",
    "version": 3
   },
   "file_extension": ".py",
   "mimetype": "text/x-python",
   "name": "python",
   "nbconvert_exporter": "python",
   "pygments_lexer": "ipython3",
   "version": "3.11.8"
  },
  "orig_nbformat": 4
 },
 "nbformat": 4,
 "nbformat_minor": 2
}
